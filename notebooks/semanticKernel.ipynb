{
 "cells": [
  {
   "cell_type": "markdown",
   "metadata": {},
   "source": [
    "### Loading needed .NET nuget packages\n",
    "\n",
    "First step is to load the needed .NET nuget packages."
   ]
  },
  {
   "cell_type": "code",
   "execution_count": null,
   "metadata": {
    "vscode": {
     "languageId": "polyglot-notebook"
    }
   },
   "outputs": [],
   "source": [
    "#r \"nuget: Microsoft.SemanticKernel, 1.7.1\"\n",
    "#r \"nuget: Microsoft.SemanticKernel.Plugins.Core, 1.7.1-alpha\"\n",
    "#r \"nuget: Microsoft.Extensions.Configuration, 8.0.0\"\n",
    "#r \"nuget: Microsoft.Extensions.Configuration.JSON, 8.0.0\""
   ]
  },
  {
   "cell_type": "markdown",
   "metadata": {},
   "source": [
    "### Import all using statement\n",
    "\n",
    "Here we will import all needed using statements\n"
   ]
  },
  {
   "cell_type": "code",
   "execution_count": 25,
   "metadata": {
    "vscode": {
     "languageId": "polyglot-notebook"
    }
   },
   "outputs": [],
   "source": [
    "using Microsoft.SemanticKernel;\n",
    "using Kernel = Microsoft.SemanticKernel.Kernel;\n",
    "using Microsoft.Extensions.Configuration;\n",
    "using System.IO;\n"
   ]
  },
  {
   "cell_type": "markdown",
   "metadata": {},
   "source": [
    "### Load appsettings.json\n",
    "\n",
    "Now we load the appsettings.json, this file is needed to connect to Azure OpenAI, this is needed to get the API Key and Endpoint of Azure OpenAI.  In real production scenario you should use Managed Identity to connect to Azure OpenAI."
   ]
  },
  {
   "cell_type": "code",
   "execution_count": 23,
   "metadata": {
    "vscode": {
     "languageId": "polyglot-notebook"
    }
   },
   "outputs": [
    {
     "name": "stdout",
     "output_type": "stream",
     "text": [
      "7ecf5e600e0745d3b4ebda0221990e66\r\n"
     ]
    }
   ],
   "source": [
    "string appsettingsFilePath = $\"{System.IO.Directory.GetCurrentDirectory()}\\\\appsettings.json\";\n",
    "\n",
    "var configuration = new ConfigurationBuilder()\n",
    "                        .AddJsonFile(appsettingsFilePath, optional: false, reloadOnChange: false)                                                     \n",
    "                        .Build();"
   ]
  },
  {
   "cell_type": "markdown",
   "metadata": {},
   "source": [
    "We are now building the Kernel"
   ]
  },
  {
   "cell_type": "code",
   "execution_count": 24,
   "metadata": {
    "vscode": {
     "languageId": "polyglot-notebook"
    }
   },
   "outputs": [],
   "source": [
    "var builder = Kernel.CreateBuilder();\n",
    "\n",
    "// We load the OpenAIChatCompletion but other builder are avaiable\n",
    "builder.AddAzureOpenAIChatCompletion(deploymentName: configuration[\"OpenAIConfiguration:DeploymentName\"], \n",
    "                                     endpoint: configuration[\"OpenAIConfiguration:OpenAiEndpoint\"], \n",
    "                                     apiKey: configuration[\"OpenAIConfiguration:OpenAiKey\"]);\n",
    "\n",
    "// Kernel ready up and running\n",
    "var kernel = builder.Build();"
   ]
  },
  {
   "cell_type": "markdown",
   "metadata": {},
   "source": [
    "Load the plugins we will use"
   ]
  },
  {
   "cell_type": "code",
   "execution_count": 50,
   "metadata": {
    "vscode": {
     "languageId": "polyglot-notebook"
    }
   },
   "outputs": [
    {
     "ename": "Error",
     "evalue": "System.ArgumentException: An item with the same key has already been added. Key: FunFact\r\n   at System.Collections.Generic.Dictionary`2.TryInsert(TKey key, TValue value, InsertionBehavior behavior)\r\n   at System.Collections.Generic.Dictionary`2.Add(TKey key, TValue value)\r\n   at Microsoft.SemanticKernel.KernelPluginCollection.Add(KernelPlugin plugin)\r\n   at Microsoft.SemanticKernel.KernelExtensions.ImportPluginFromPromptDirectory(Kernel kernel, String pluginDirectory, String pluginName, IPromptTemplateFactory promptTemplateFactory)\r\n   at Submission#49.<<Initialize>>d__0.MoveNext()\r\n--- End of stack trace from previous location ---\r\n   at Microsoft.CodeAnalysis.Scripting.ScriptExecutionState.RunSubmissionsAsync[TResult](ImmutableArray`1 precedingExecutors, Func`2 currentExecutor, StrongBox`1 exceptionHolderOpt, Func`2 catchExceptionOpt, CancellationToken cancellationToken)",
     "output_type": "error",
     "traceback": [
      "System.ArgumentException: An item with the same key has already been added. Key: FunFact\r\n",
      "   at System.Collections.Generic.Dictionary`2.TryInsert(TKey key, TValue value, InsertionBehavior behavior)\r\n",
      "   at System.Collections.Generic.Dictionary`2.Add(TKey key, TValue value)\r\n",
      "   at Microsoft.SemanticKernel.KernelPluginCollection.Add(KernelPlugin plugin)\r\n",
      "   at Microsoft.SemanticKernel.KernelExtensions.ImportPluginFromPromptDirectory(Kernel kernel, String pluginDirectory, String pluginName, IPromptTemplateFactory promptTemplateFactory)\r\n",
      "   at Submission#49.<<Initialize>>d__0.MoveNext()\r\n",
      "--- End of stack trace from previous location ---\r\n",
      "   at Microsoft.CodeAnalysis.Scripting.ScriptExecutionState.RunSubmissionsAsync[TResult](ImmutableArray`1 precedingExecutors, Func`2 currentExecutor, StrongBox`1 exceptionHolderOpt, Func`2 catchExceptionOpt, CancellationToken cancellationToken)"
     ]
    }
   ],
   "source": [
    "// Just needed in case we run the cell multiples time to not have plugin already loaded errors\n",
    "kernel.Plugins.Clear();\n",
    "\n",
    "// Load fun fact plugin\n",
    "var funFactPluginDirectoryPath = Path.Combine(System.IO.Directory.GetCurrentDirectory(),\"Plugins\\\\FunFact\");\n",
    "\n",
    "var funFactPluginFunctions = kernel.ImportPluginFromPromptDirectory(funFactPluginDirectoryPath);\n",
    "\n",
    "// Construct arguments\n",
    "Console.WriteLine(\"Fun fact about a famous dish from Quebec that is delicious\");\n",
    "Console.WriteLine(\"\");\n",
    "\n",
    "var arguments = new KernelArguments() { [\"input\"] = \"Fun fact about a famous dish from Quebec that is delicious\" };\n",
    "\n",
    "var result = await kernel.InvokeAsync(funFactPluginFunctions[\"GetQuebecFact\"], arguments);\n",
    "\n",
    "// Return the result to the Notebook\n",
    "Console.WriteLine(result);\n",
    "\n",
    "Console.WriteLine(\"\");\n",
    "Console.WriteLine(\"Fun fact about a famous dish from Ontario that is delicious\");\n",
    "Console.WriteLine(\"\");\n",
    "\n",
    "arguments = new KernelArguments() { [\"input\"] = \"Fun fact about a famous dish from Ontario that is delicious\" };\n",
    "\n",
    "result = await kernel.InvokeAsync(funFactPluginFunctions[\"GetOntarioFact\"], arguments);\n",
    "\n",
    "Console.WriteLine(result);\n",
    "\n",
    "Console.WriteLine(\"\");\n",
    "Console.WriteLine(\"Fun fact about an animal in quebec and an hunter\");\n",
    "Console.WriteLine(\"\");\n",
    "\n",
    "// Ask another FunFact\n",
    "arguments = new KernelArguments() { [\"input\"] = \"Fun fact about an animal in quebec and an hunter\" };\n",
    "\n",
    "result = await kernel.InvokeAsync(funFactPluginFunctions[\"GetQuebecFact\"], arguments);\n",
    "\n",
    "// Return the result to the Notebook\n",
    "Console.WriteLine(result);\n"
   ]
  }
 ],
 "metadata": {
  "language_info": {
   "name": "python"
  }
 },
 "nbformat": 4,
 "nbformat_minor": 2
}
