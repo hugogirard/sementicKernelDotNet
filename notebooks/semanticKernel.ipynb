{
 "cells": [
  {
   "cell_type": "markdown",
   "metadata": {},
   "source": [
    "### Loading needed .NET nuget packages\n",
    "\n",
    "First step is to load the needed .NET nuget packages."
   ]
  },
  {
   "cell_type": "code",
   "execution_count": null,
   "metadata": {
    "vscode": {
     "languageId": "polyglot-notebook"
    }
   },
   "outputs": [],
   "source": [
    "#r \"nuget: Microsoft.SemanticKernel, 1.7.1\"\n",
    "#r \"nuget: Microsoft.SemanticKernel.Plugins.Core, 1.7.1-alpha\"\n",
    "#r \"nuget: Microsoft.Extensions.Configuration, 8.0.0\"\n",
    "#r \"nuget: Microsoft.Extensions.Configuration.JSON, 8.0.0\"\n",
    "#r \"nuget: ColorConsole, 1.0.1\""
   ]
  },
  {
   "cell_type": "markdown",
   "metadata": {},
   "source": [
    "### Import all using statement\n",
    "\n",
    "Here we will import all needed using statements\n"
   ]
  },
  {
   "cell_type": "code",
   "execution_count": 57,
   "metadata": {
    "vscode": {
     "languageId": "polyglot-notebook"
    }
   },
   "outputs": [],
   "source": [
    "using Microsoft.SemanticKernel;\n",
    "using Kernel = Microsoft.SemanticKernel.Kernel;\n",
    "using Microsoft.Extensions.Configuration;\n",
    "using System.IO;\n",
    "using ColorConsole;\n",
    "using Microsoft.SemanticKernel.ChatCompletion;"
   ]
  },
  {
   "cell_type": "markdown",
   "metadata": {},
   "source": [
    "### Load appsettings.json\n",
    "\n",
    "Now we load the appsettings.json, this file is needed to connect to Azure OpenAI, this is needed to get the API Key and Endpoint of Azure OpenAI.  In real production scenario you should use Managed Identity to connect to Azure OpenAI."
   ]
  },
  {
   "cell_type": "markdown",
   "metadata": {},
   "source": [
    "We are now building the Kernel"
   ]
  },
  {
   "cell_type": "code",
   "execution_count": 24,
   "metadata": {
    "vscode": {
     "languageId": "polyglot-notebook"
    }
   },
   "outputs": [],
   "source": [
    "var builder = Kernel.CreateBuilder();\n",
    "\n",
    "// We load the OpenAIChatCompletion but other builder are avaiable\n",
    "builder.AddAzureOpenAIChatCompletion(deploymentName: configuration[\"OpenAIConfiguration:DeploymentName\"], \n",
    "                                     endpoint: configuration[\"OpenAIConfiguration:OpenAiEndpoint\"], \n",
    "                                     apiKey: configuration[\"OpenAIConfiguration:OpenAiKey\"]);\n",
    "\n",
    "// Kernel ready up and running\n",
    "var kernel = builder.Build();"
   ]
  },
  {
   "cell_type": "markdown",
   "metadata": {},
   "source": [
    "Summarize some content with sementic kernel"
   ]
  },
  {
   "cell_type": "code",
   "execution_count": null,
   "metadata": {
    "vscode": {
     "languageId": "polyglot-notebook"
    }
   },
   "outputs": [],
   "source": [
    "string inLineFunction = \"\"\"\n",
    "{{$input}}\n",
    "\n",
    "Summarize the content above in less than 140 characters.\n",
    "\"\"\";\n",
    "\n"
   ]
  },
  {
   "cell_type": "markdown",
   "metadata": {},
   "source": [
    "Load the plugins we will use"
   ]
  },
  {
   "cell_type": "code",
   "execution_count": null,
   "metadata": {
    "vscode": {
     "languageId": "polyglot-notebook"
    }
   },
   "outputs": [],
   "source": [
    "// Just needed in case we run the cell multiples time to not have plugin already loaded errors\n",
    "kernel.Plugins.Clear();\n",
    "\n",
    "// Load fun fact plugin\n",
    "var funFactPluginDirectoryPath = Path.Combine(System.IO.Directory.GetCurrentDirectory(),\"Plugins\\\\FunFact\");\n",
    "\n",
    "var funFactPluginFunctions = kernel.ImportPluginFromPromptDirectory(funFactPluginDirectoryPath);\n",
    "\n",
    "// Construct arguments\n",
    "Console.WriteLine(\"Fun fact about a famous dish from Quebec that is delicious\", ConsoleColor.Green);\n",
    "Console.WriteLine(\"**********************************************************\");\n",
    "\n",
    "var arguments = new KernelArguments() { [\"input\"] = \"Fun fact about a famous dish from Quebec that is delicious\" };\n",
    "\n",
    "var result = await kernel.InvokeAsync(funFactPluginFunctions[\"GetQuebecFact\"], arguments);\n",
    "\n",
    "// Return the result to the Notebook\n",
    "Console.WriteLine(result);\n",
    "\n",
    "Console.WriteLine(\"===========================================================\");\n",
    "Console.WriteLine(\"Fun fact about an animal in quebec and an hunter\", ConsoleColor.Green);\n",
    "Console.WriteLine(\"**********************************************************\");\n",
    "\n",
    "// Ask another FunFact\n",
    "arguments = new KernelArguments() { [\"input\"] = \"Fun fact about an animal in quebec and an hunter\" };\n",
    "\n",
    "result = await kernel.InvokeAsync(funFactPluginFunctions[\"GetQuebecFact\"], arguments);\n",
    "\n",
    "Console.WriteLine(\"===========================================================\");\n",
    "Console.WriteLine(\"Fun fact about a famous hockey player from Montreal\", ConsoleColor.Green);\n",
    "Console.WriteLine(\"**********************************************************\");\n",
    "\n",
    "arguments = new KernelArguments() { [\"input\"] = \"Fun fact about a famous hockey player from Montreal\" };\n",
    "\n",
    "result = await kernel.InvokeAsync(funFactPluginFunctions[\"GetQuebecFact\"], arguments);\n",
    "\n",
    "// Return the result to the Notebook\n",
    "Console.WriteLine(result);\n"
   ]
  },
  {
   "cell_type": "markdown",
   "metadata": {},
   "source": [
    "Now let's create a prompt that will keep the char history in consideration"
   ]
  }
 ],
 "metadata": {
  "language_info": {
   "name": "python"
  }
 },
 "nbformat": 4,
 "nbformat_minor": 2
}
