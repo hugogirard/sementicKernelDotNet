{
 "cells": [
  {
   "cell_type": "markdown",
   "metadata": {},
   "source": [
    "### Loading needed .NET nuget packages\n",
    "\n",
    "First step is to load the needed .NET nuget packages."
   ]
  },
  {
   "cell_type": "code",
   "execution_count": null,
   "metadata": {
    "vscode": {
     "languageId": "polyglot-notebook"
    }
   },
   "outputs": [],
   "source": [
    "#r \"nuget: Microsoft.SemanticKernel, 1.7.1\"\n",
    "#r \"nuget: Microsoft.SemanticKernel.Plugins.Core, 1.7.1-alpha\"\n",
    "#r \"nuget: Microsoft.Extensions.Configuration, 8.0.0\"\n",
    "#r \"nuget: Microsoft.Extensions.Configuration.JSON, 8.0.0\""
   ]
  },
  {
   "cell_type": "markdown",
   "metadata": {},
   "source": [
    "### Import all using statement\n",
    "\n",
    "Here we will import all needed using statements\n"
   ]
  },
  {
   "cell_type": "code",
   "execution_count": 7,
   "metadata": {
    "vscode": {
     "languageId": "polyglot-notebook"
    }
   },
   "outputs": [],
   "source": [
    "using Microsoft.SemanticKernel;\n",
    "using Kernel = Microsoft.SemanticKernel.Kernel;\n",
    "using Microsoft.Extensions.Configuration;\n",
    "\n",
    "// Load some the class that contains the configuration to connect to Azure OpenAI\n",
    "#!import Models/OpenAiConfiguration.cs "
   ]
  },
  {
   "cell_type": "markdown",
   "metadata": {},
   "source": [
    "### Load appsettings.json\n",
    "\n",
    "Now we load the appsettings.json, this file is needed to connect to Azure OpenAI, this is needed to get the API Key and Endpoint of Azure OpenAI.  In real production scenario you should use Managed Identity to connect to Azure OpenAI."
   ]
  },
  {
   "cell_type": "code",
   "execution_count": null,
   "metadata": {
    "vscode": {
     "languageId": "polyglot-notebook"
    }
   },
   "outputs": [],
   "source": [
    "var configuration = new ConfigurationBuilder()\n",
    "                        .AddJsonFile(\"appsettings.json\", optional: false, reloadOnChange: false)                                                     \n",
    "                        .Build();\n",
    "\n",
    "var openAiConfiguration = configuration.GetSection(\"OpenAIConfiguration\") as OpenAiConfiguration;"
   ]
  }
 ],
 "metadata": {
  "language_info": {
   "name": "python"
  }
 },
 "nbformat": 4,
 "nbformat_minor": 2
}
